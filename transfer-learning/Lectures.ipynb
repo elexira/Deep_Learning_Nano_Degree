{
 "cells": [
  {
   "cell_type": "markdown",
   "metadata": {},
   "source": [
    "![](./notebook_ims/lecture1.png)\n",
    "![](./notebook_ims/lecture2.png)\n",
    "![](./notebook_ims/lecture3.png)\n",
    "![](./notebook_ims/lecture4.png)\n",
    "![](./notebook_ims/lecture5.png)\n",
    "![](./notebook_ims/lecture6.png)\n",
    "![](./notebook_ims/lecture7.png)\n",
    "![](./notebook_ims/lecture8.png)"
   ]
  }
 ],
 "metadata": {
  "kernelspec": {
   "display_name": "Python 3",
   "language": "python",
   "name": "python3"
  },
  "language_info": {
   "codemirror_mode": {
    "name": "ipython",
    "version": 3
   },
   "file_extension": ".py",
   "mimetype": "text/x-python",
   "name": "python",
   "nbconvert_exporter": "python",
   "pygments_lexer": "ipython3",
   "version": "3.7.6"
  }
 },
 "nbformat": 4,
 "nbformat_minor": 4
}
