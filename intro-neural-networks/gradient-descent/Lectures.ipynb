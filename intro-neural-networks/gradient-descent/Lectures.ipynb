{
 "cells": [
  {
   "cell_type": "markdown",
   "metadata": {},
   "source": [
    "# watch the perceptron video "
   ]
  },
  {
   "cell_type": "markdown",
   "metadata": {},
   "source": [
    "Here the discussion is about this linear function that they lecture notes associates with the perceptron\n",
    "Here is a one interpretation, it might be wrong\n",
    "consider logistic regression case where we want to model it with one perceptron, ignore bias\n",
    "assume 2 classes:\n",
    "\n",
    "P(Y = class2| x1, x2) = sigmoid(w1x1 + w2x2)\n",
    "the decision boundry is where the decision can change\n",
    "P(Y = class2| x1, x2) = 0.5 \n",
    "sigmoid(w1x1 + w2x2) = 0.5\n",
    "or you can say anything that satisfice the following is in class 1\n",
    "sigmoid(w1x1 + w2x2) > 0.5\n",
    "when you solve this you get the following equation \n",
    "w1x1 + w2x2 = 0 or x2 = -(w1/w2)x1 \n",
    "you can plot this in a 2D plane, with two axis, x1 and x2\n",
    "the line had a negative slope \n",
    "\n",
    "in case of \n",
    "sigmoid(w1x1 + w2x2) > 0.5\n",
    "the equation becomes\n",
    "w1x1 + w2x2 > 0  or x2 > -(w1/w2)x1 \n",
    "\n",
    "assume w1 = w2 = 1\n",
    "\n",
    "equation becomes => x2 = -x1   or x2 > -x1  or x1 + x2 > 0 which is points to the right side of plane x1 + x2"
   ]
  },
  {
   "cell_type": "markdown",
   "metadata": {},
   "source": [
    "# Perceptron with x1, x2 heat map \n",
    "watch also the class video"
   ]
  },
  {
   "cell_type": "code",
   "execution_count": 43,
   "metadata": {},
   "outputs": [
    {
     "data": {
      "image/png": "[encoded data removed]",
      "text/plain": [
       "<Figure size 432x288 with 1 Axes>"
      ]
     },
     "metadata": {
      "needs_background": "light"
     },
     "output_type": "display_data"
    }
   ],
   "source": [
    "import matplotlib.pyplot as plt\n",
    "import numpy as np\n",
    "\n",
    "import numpy as np\n",
    "import matplotlib.pyplot as plt\n",
    "import itertools\n",
    "x1 = np.linspace(0, 1, 10)\n",
    "x2 = np.linspace(0, 1, 10)\n",
    "pts = itertools.product(x1, x2)\n",
    "# the lower the weight the more it becomes OR , where both X1, X2 have to be large to activate sigmoid\n",
    "# higher weight makes it more like AND, where as long as one of X1 and X2 is active the segmoid is active\n",
    "# with negative weights you get X1 has to be high and X1 low for activation\n",
    "w1 = .00010  \n",
    "w2 = .00010\n",
    "\n",
    "z = list()\n",
    "x = list()\n",
    "y = list()\n",
    "for i, p in enumerate(pts):\n",
    "    x.append(p[0])\n",
    "    y.append(p[1])\n",
    "    z.append(np.exp(w1*p[0] + w2*p[1])/(1 + np.exp(w1*p[0] + w2*p[1])))\n",
    "\n",
    "\n",
    "x=np.array(x)\n",
    "y=np.array(y)\n",
    "z=np.array(z)\n",
    "\n",
    "\n",
    "x=np.unique(x)\n",
    "y=np.unique(y)\n",
    "X,Y = np.meshgrid(x,y)\n",
    "\n",
    "Z=z.reshape(len(y),len(x))\n",
    "\n",
    "plt.pcolormesh(X,Y,Z)\n",
    "\n",
    "plt.show()"
   ]
  },
  {
   "cell_type": "markdown",
   "metadata": {},
   "source": [
    "## Cross Entropy"
   ]
  },
  {
   "cell_type": "code",
   "execution_count": 44,
   "metadata": {},
   "outputs": [],
   "source": [
    "import numpy as np\n",
    "\n",
    "def cross_entropy(Y, P):\n",
    "    Y = np.float_(Y)\n",
    "    P = np.float_(P)\n",
    "    # more general : a sample belongs to only one class K, you want to maximize that \n",
    "    # multiply and indicator k, 1{if Y = k} with its corresponding prediction probability from model \n",
    "    return -np.sum(Y * np.log(P) + (1 - Y) * np.log(1 - P))"
   ]
  },
  {
   "cell_type": "markdown",
   "metadata": {},
   "source": [
    "![](./images/lecture1.png)\n",
    "![](./images/lecture2.png)\n",
    "![](./images/lecture3.png)\n",
    "![](./images/lecture4.png)"
   ]
  }
 ],
 "metadata": {
  "kernelspec": {
   "display_name": "Python 3",
   "language": "python",
   "name": "python3"
  },
  "language_info": {
   "codemirror_mode": {
    "name": "ipython",
    "version": 3
   },
   "file_extension": ".py",
   "mimetype": "text/x-python",
   "name": "python",
   "nbconvert_exporter": "python",
   "pygments_lexer": "ipython3",
   "version": "3.7.6"
  }
 },
 "nbformat": 4,
 "nbformat_minor": 4
}
