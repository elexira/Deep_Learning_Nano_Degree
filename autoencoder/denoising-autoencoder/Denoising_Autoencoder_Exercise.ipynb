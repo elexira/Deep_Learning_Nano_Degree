{
 "cells": [
  {
   "cell_type": "markdown",
   "metadata": {},
   "source": [
    "# Denoising Autoencoder\n",
    "\n",
    "Sticking with the MNIST dataset, let's add noise to our data and see if we can define and train an autoencoder to _de_-noise the images.\n",
    "\n",
    "<img src='notebook_ims/autoencoder_denoise.png' width=70%/>\n",
    "\n",
    "Let's get started by importing our libraries and getting the dataset."
   ]
  },
  {
   "cell_type": "code",
   "execution_count": 1,
   "metadata": {},
   "outputs": [
    {
     "name": "stdout",
     "output_type": "stream",
     "text": [
      "Downloading http://yann.lecun.com/exdb/mnist/train-images-idx3-ubyte.gz\n",
      "Downloading http://yann.lecun.com/exdb/mnist/train-labels-idx1-ubyte.gz\n",
      "Downloading http://yann.lecun.com/exdb/mnist/t10k-images-idx3-ubyte.gz\n",
      "Downloading http://yann.lecun.com/exdb/mnist/t10k-labels-idx1-ubyte.gz\n",
      "Processing...\n",
      "Done!\n"
     ]
    }
   ],
   "source": [
    "import torch\n",
    "import numpy as np\n",
    "from torchvision import datasets\n",
    "import torchvision.transforms as transforms\n",
    "\n",
    "# convert data to torch.FloatTensor\n",
    "transform = transforms.ToTensor()\n",
    "\n",
    "# load the training and test datasets\n",
    "train_data = datasets.MNIST(root='data', train=True,\n",
    "                                   download=True, transform=transform)\n",
    "test_data = datasets.MNIST(root='data', train=False,\n",
    "                                  download=True, transform=transform)\n",
    "\n",
    "# Create training and test dataloaders\n",
    "num_workers = 0\n",
    "# how many samples per batch to load\n",
    "batch_size = 20\n",
    "\n",
    "# prepare data loaders\n",
    "train_loader = torch.utils.data.DataLoader(train_data, batch_size=batch_size, num_workers=num_workers)\n",
    "test_loader = torch.utils.data.DataLoader(test_data, batch_size=batch_size, num_workers=num_workers)"
   ]
  },
  {
   "cell_type": "markdown",
   "metadata": {},
   "source": [
    "### Visualize the Data"
   ]
  },
  {
   "cell_type": "code",
   "execution_count": 2,
   "metadata": {},
   "outputs": [
    {
     "data": {
      "text/plain": [
       "<matplotlib.image.AxesImage at 0x7f8a8a6ad160>"
      ]
     },
     "execution_count": 2,
     "metadata": {},
     "output_type": "execute_result"
    },
    {
     "data": {
      "image/png": "[encoded data removed]",
      "text/plain": [
       "<Figure size 360x360 with 1 Axes>"
      ]
     },
     "metadata": {
      "needs_background": "light"
     },
     "output_type": "display_data"
    }
   ],
   "source": [
    "import matplotlib.pyplot as plt\n",
    "%matplotlib inline\n",
    "    \n",
    "# obtain one batch of training images\n",
    "dataiter = iter(train_loader)\n",
    "images, labels = dataiter.next()\n",
    "images = images.numpy()\n",
    "\n",
    "# get one image from the batch\n",
    "img = np.squeeze(images[0])\n",
    "\n",
    "fig = plt.figure(figsize = (5,5)) \n",
    "ax = fig.add_subplot(111)\n",
    "ax.imshow(img, cmap='gray')"
   ]
  },
  {
   "cell_type": "markdown",
   "metadata": {},
   "source": [
    "---\n",
    "# Denoising\n",
    "\n",
    "As I've mentioned before, autoencoders like the ones you've built so far aren't too useful in practive. However, they can be used to denoise images quite successfully just by training the network on noisy images. We can create the noisy images ourselves by adding Gaussian noise to the training images, then clipping the values to be between 0 and 1.\n",
    "\n",
    ">**We'll use noisy images as input and the original, clean images as targets.** \n",
    "\n",
    "Below is an example of some of the noisy images I generated and the associated, denoised images.\n",
    "\n",
    "<img src='notebook_ims/denoising.png' />\n",
    "\n",
    "\n",
    "Since this is a harder problem for the network, we'll want to use _deeper_ convolutional layers here; layers with more feature maps. You might also consider adding additional layers. I suggest starting with a depth of 32 for the convolutional layers in the encoder, and the same depths going backward through the decoder.\n",
    "\n",
    "#### TODO: Build the network for the denoising autoencoder. Add deeper and/or additional layers compared to the model above."
   ]
  },
  {
   "cell_type": "code",
   "execution_count": 69,
   "metadata": {},
   "outputs": [
    {
     "name": "stdout",
     "output_type": "stream",
     "text": [
      "ConvDenoiser(\n",
      "  (encoder_conv_layer_1): Conv2d(1, 16, kernel_size=(3, 3), stride=(1, 1), padding=(1, 1))\n",
      "  (encoder_max_pool_layer2): MaxPool2d(kernel_size=2, stride=2, padding=0, dilation=1, ceil_mode=False)\n",
      "  (encoder_conv_layer_3): Conv2d(16, 4, kernel_size=(3, 3), stride=(1, 1), padding=(1, 1))\n",
      "  (encoder_max_pool_layer4): MaxPool2d(kernel_size=2, stride=2, padding=0, dilation=1, ceil_mode=False)\n",
      "  (decoder_conv_layer_7): ConvTranspose2d(4, 16, kernel_size=(2, 2), stride=(2, 2))\n",
      "  (decoder_upsample_layer_8): Upsample(scale_factor=2, mode=nearest)\n",
      "  (decoder_conv_layer_9): ConvTranspose2d(16, 1, kernel_size=(3, 3), stride=(1, 1), padding=(1, 1))\n",
      "  (relu): ReLU()\n",
      "  (sigmoid): Sigmoid()\n",
      ")\n"
     ]
    }
   ],
   "source": [
    "import torch.nn as nn\n",
    "import torch.nn.functional as F\n",
    "\n",
    "# define the NN architecture\n",
    "class ConvDenoiser(nn.Module):\n",
    "    def __init__(self):\n",
    "        super(ConvDenoiser, self).__init__()\n",
    "        self.encoder_conv_layer_1 = nn.Conv2d(in_channels = 1,\n",
    "                                              out_channels=16,\n",
    "                                              kernel_size = 3,\n",
    "                                              stride = 1,\n",
    "                                              padding = 1)\n",
    "        \n",
    "        self.encoder_max_pool_layer2 = nn.MaxPool2d(kernel_size = 2, stride = 2)\n",
    "        \n",
    "        self.encoder_conv_layer_3 = nn.Conv2d(in_channels= 16,\n",
    "                                              out_channels = 4,\n",
    "                                              kernel_size = 3,\n",
    "                                              stride = 1,\n",
    "                                              padding = 1)\n",
    "        \n",
    "        self.encoder_max_pool_layer4 = nn.MaxPool2d(kernel_size = 2, stride = 2)\n",
    "        ## decoder layers ##\n",
    "        ## a kernel of 2 and a stride of 2 will increase the spatial dims by 2\n",
    "#         self.decoder_deconv_layer_5 = nn.ConvTranspose2d(in_channels= 4,\n",
    "#                                                          out_channels = 4,\n",
    "#                                                          kernel_size = 3,\n",
    "#                                                          stride = 1,\n",
    "#                                                          padding = 1)        \n",
    "        \n",
    "        \n",
    "#         self.decoder_upsample_layer_6 = nn.Upsample(scale_factor=2, mode='nearest')\n",
    "        \n",
    "        self.decoder_conv_layer_7 = nn.ConvTranspose2d(in_channels= 4,\n",
    "                                                       out_channels = 16,\n",
    "                                                       kernel_size = 2,\n",
    "                                                       stride = 2,\n",
    "                                                       padding = 0)\n",
    "        \n",
    "        self.decoder_upsample_layer_8 = nn.Upsample(scale_factor=2, mode='nearest')\n",
    "        \n",
    "        \n",
    "        self.decoder_conv_layer_9 = nn.ConvTranspose2d(in_channels= 16,\n",
    "                                                       out_channels = 1,\n",
    "                                                       kernel_size = 3,\n",
    "                                                       stride = 1,\n",
    "                                                       padding = 1)\n",
    "        \n",
    "        self.relu = nn.ReLU()\n",
    "        self.sigmoid = nn.Sigmoid()\n",
    "\n",
    "\n",
    "    def forward(self, x):\n",
    "        ## encode ##\n",
    "        #print(x.shape)\n",
    "        x = self.encoder_conv_layer_1(x)\n",
    "        x = self.relu(x)\n",
    "        #print(x.shape)\n",
    "        x = self.encoder_max_pool_layer2(x)\n",
    "        x = self.relu(x)\n",
    "        #print(x.shape)\n",
    "        x = self.encoder_conv_layer_3(x)\n",
    "        x = self.relu(x)\n",
    "        #print(x.shape)\n",
    "        x = self.encoder_max_pool_layer4(x)\n",
    "        x = self.relu(x)\n",
    "        #print(x.shape)\n",
    "#         x = self.decoder_deconv_layer_5(x)\n",
    "#         x = self.relu(x)\n",
    "        #print(x.shape)\n",
    "        \n",
    "#         x = self.decoder_upsample_layer_6(x)\n",
    "        #print(x.shape)\n",
    "        x = self.decoder_conv_layer_7(x)\n",
    "        x = self.relu(x)\n",
    "        # print(x.shape)\n",
    "        x = self.decoder_upsample_layer_8(x)\n",
    "        # print(x.shape)        \n",
    "        x = self.decoder_conv_layer_9(x)\n",
    "        x = self.sigmoid(x)\n",
    "        # print(x.shape)\n",
    "        \n",
    "        return x\n",
    "\n",
    "\n",
    "# initialize the NN\n",
    "model = ConvDenoiser().cuda()\n",
    "print(model)"
   ]
  },
  {
   "cell_type": "code",
   "execution_count": 68,
   "metadata": {},
   "outputs": [
    {
     "name": "stdout",
     "output_type": "stream",
     "text": [
      "torch.Size([16, 16, 14, 14])\n",
      "torch.Size([16, 16, 28, 28])\n",
      "torch.Size([16, 1, 28, 28])\n"
     ]
    },
    {
     "data": {
      "text/plain": [
       "tensor([[[[0.4554, 0.4555, 0.4573,  ..., 0.4568, 0.4580, 0.4631],\n",
       "          [0.4401, 0.4429, 0.4501,  ..., 0.4427, 0.4495, 0.4537],\n",
       "          [0.4394, 0.4426, 0.4481,  ..., 0.4414, 0.4470, 0.4491],\n",
       "          ...,\n",
       "          [0.4394, 0.4424, 0.4493,  ..., 0.4424, 0.4499, 0.4539],\n",
       "          [0.4388, 0.4428, 0.4481,  ..., 0.4419, 0.4482, 0.4504],\n",
       "          [0.4431, 0.4427, 0.4403,  ..., 0.4430, 0.4409, 0.4456]]],\n",
       "\n",
       "\n",
       "        [[[0.4554, 0.4555, 0.4573,  ..., 0.4568, 0.4580, 0.4631],\n",
       "          [0.4401, 0.4429, 0.4501,  ..., 0.4427, 0.4495, 0.4537],\n",
       "          [0.4394, 0.4426, 0.4481,  ..., 0.4414, 0.4470, 0.4491],\n",
       "          ...,\n",
       "          [0.4394, 0.4424, 0.4493,  ..., 0.4424, 0.4499, 0.4539],\n",
       "          [0.4388, 0.4428, 0.4481,  ..., 0.4419, 0.4482, 0.4504],\n",
       "          [0.4431, 0.4427, 0.4403,  ..., 0.4430, 0.4409, 0.4456]]],\n",
       "\n",
       "\n",
       "        [[[0.4554, 0.4555, 0.4573,  ..., 0.4568, 0.4580, 0.4631],\n",
       "          [0.4401, 0.4429, 0.4501,  ..., 0.4427, 0.4495, 0.4537],\n",
       "          [0.4394, 0.4426, 0.4481,  ..., 0.4414, 0.4470, 0.4491],\n",
       "          ...,\n",
       "          [0.4394, 0.4424, 0.4493,  ..., 0.4424, 0.4499, 0.4539],\n",
       "          [0.4388, 0.4428, 0.4481,  ..., 0.4419, 0.4482, 0.4504],\n",
       "          [0.4431, 0.4427, 0.4403,  ..., 0.4430, 0.4409, 0.4456]]],\n",
       "\n",
       "\n",
       "        ...,\n",
       "\n",
       "\n",
       "        [[[0.4554, 0.4555, 0.4573,  ..., 0.4568, 0.4580, 0.4631],\n",
       "          [0.4401, 0.4429, 0.4501,  ..., 0.4427, 0.4495, 0.4537],\n",
       "          [0.4394, 0.4426, 0.4481,  ..., 0.4414, 0.4470, 0.4491],\n",
       "          ...,\n",
       "          [0.4394, 0.4424, 0.4493,  ..., 0.4424, 0.4499, 0.4539],\n",
       "          [0.4388, 0.4428, 0.4481,  ..., 0.4419, 0.4482, 0.4504],\n",
       "          [0.4431, 0.4427, 0.4403,  ..., 0.4430, 0.4409, 0.4456]]],\n",
       "\n",
       "\n",
       "        [[[0.4554, 0.4555, 0.4573,  ..., 0.4568, 0.4580, 0.4631],\n",
       "          [0.4401, 0.4429, 0.4501,  ..., 0.4427, 0.4495, 0.4537],\n",
       "          [0.4394, 0.4426, 0.4481,  ..., 0.4414, 0.4470, 0.4491],\n",
       "          ...,\n",
       "          [0.4394, 0.4424, 0.4493,  ..., 0.4424, 0.4499, 0.4539],\n",
       "          [0.4388, 0.4428, 0.4481,  ..., 0.4419, 0.4482, 0.4504],\n",
       "          [0.4431, 0.4427, 0.4403,  ..., 0.4430, 0.4409, 0.4456]]],\n",
       "\n",
       "\n",
       "        [[[0.4554, 0.4555, 0.4573,  ..., 0.4568, 0.4580, 0.4631],\n",
       "          [0.4401, 0.4429, 0.4501,  ..., 0.4427, 0.4495, 0.4537],\n",
       "          [0.4394, 0.4426, 0.4481,  ..., 0.4414, 0.4470, 0.4491],\n",
       "          ...,\n",
       "          [0.4394, 0.4424, 0.4493,  ..., 0.4424, 0.4499, 0.4539],\n",
       "          [0.4388, 0.4428, 0.4481,  ..., 0.4419, 0.4482, 0.4504],\n",
       "          [0.4431, 0.4427, 0.4403,  ..., 0.4430, 0.4409, 0.4456]]]],\n",
       "       device='cuda:0', grad_fn=<SigmoidBackward>)"
      ]
     },
     "execution_count": 68,
     "metadata": {},
     "output_type": "execute_result"
    }
   ],
   "source": [
    "x = torch.randint(1, size = (16, 1, 28, 28) ).type('torch.FloatTensor').cuda()\n",
    "model(x)"
   ]
  },
  {
   "cell_type": "markdown",
   "metadata": {},
   "source": [
    "---\n",
    "## Training\n",
    "\n",
    "We are only concerned with the training images, which we can get from the `train_loader`.\n",
    "\n",
    ">In this case, we are actually **adding some noise** to these images and we'll feed these `noisy_imgs` to our model. The model will produce reconstructed images based on the noisy input. But, we want it to produce _normal_ un-noisy images, and so, when we calculate the loss, we will still compare the reconstructed outputs to the original images!\n",
    "\n",
    "Because we're comparing pixel values in input and output images, it will be best to use a loss that is meant for a regression task. Regression is all about comparing quantities rather than probabilistic values. So, in this case, I'll use `MSELoss`. And compare output images and input images as follows:\n",
    "```\n",
    "loss = criterion(outputs, images)\n",
    "```"
   ]
  },
  {
   "cell_type": "code",
   "execution_count": 70,
   "metadata": {},
   "outputs": [],
   "source": [
    "# specify loss function\n",
    "criterion = nn.MSELoss()\n",
    "\n",
    "# specify loss function\n",
    "optimizer = torch.optim.Adam(model.parameters(), lr=0.001)"
   ]
  },
  {
   "cell_type": "code",
   "execution_count": 71,
   "metadata": {},
   "outputs": [
    {
     "name": "stdout",
     "output_type": "stream",
     "text": [
      "Epoch: 1 \tTraining Loss: 0.572812\n",
      "Epoch: 2 \tTraining Loss: 0.402151\n",
      "Epoch: 3 \tTraining Loss: 0.390083\n",
      "Epoch: 4 \tTraining Loss: 0.383985\n",
      "Epoch: 5 \tTraining Loss: 0.380774\n",
      "Epoch: 6 \tTraining Loss: 0.378404\n",
      "Epoch: 7 \tTraining Loss: 0.376287\n",
      "Epoch: 8 \tTraining Loss: 0.374704\n",
      "Epoch: 9 \tTraining Loss: 0.372945\n",
      "Epoch: 10 \tTraining Loss: 0.371726\n",
      "Epoch: 11 \tTraining Loss: 0.370561\n",
      "Epoch: 12 \tTraining Loss: 0.369331\n",
      "Epoch: 13 \tTraining Loss: 0.368059\n",
      "Epoch: 14 \tTraining Loss: 0.366610\n",
      "Epoch: 15 \tTraining Loss: 0.366765\n",
      "Epoch: 16 \tTraining Loss: 0.365466\n",
      "Epoch: 17 \tTraining Loss: 0.364927\n",
      "Epoch: 18 \tTraining Loss: 0.364395\n",
      "Epoch: 19 \tTraining Loss: 0.363487\n",
      "Epoch: 20 \tTraining Loss: 0.362493\n"
     ]
    }
   ],
   "source": [
    "# number of epochs to train the model\n",
    "n_epochs = 20\n",
    "\n",
    "# for adding noise to images\n",
    "noise_factor=0.5\n",
    "\n",
    "for epoch in range(1, n_epochs+1):\n",
    "    # monitor training loss\n",
    "    train_loss = 0.0\n",
    "    \n",
    "    ###################\n",
    "    # train the model #\n",
    "    ###################\n",
    "    for data in train_loader:\n",
    "        # _ stands in for labels, here\n",
    "        # no need to flatten images\n",
    "        images, _ = data\n",
    "        \n",
    "        \n",
    "        ## add random noise to the input images\n",
    "        noisy_imgs = images + (noise_factor * torch.randn(*images.shape))\n",
    "        # Clip the images to be between 0 and 1\n",
    "        noisy_imgs = np.clip(noisy_imgs, 0., 1.)\n",
    "        noisy_imgs = noisy_imgs.cuda()\n",
    "        images = images.cuda()\n",
    "        # clear the gradients of all optimized variables\n",
    "        optimizer.zero_grad()\n",
    "        ## forward pass: compute predicted outputs by passing *noisy* images to the model\n",
    "        outputs = model(noisy_imgs)\n",
    "        # calculate the loss\n",
    "        # the \"target\" is still the original, not-noisy images\n",
    "        loss = criterion(outputs, images)\n",
    "        # backward pass: compute gradient of the loss with respect to model parameters\n",
    "        loss.backward()\n",
    "        # perform a single optimization step (parameter update)\n",
    "        optimizer.step()\n",
    "        # update running training loss\n",
    "        train_loss += loss.item()*images.size(0)\n",
    "            \n",
    "    # print avg training statistics \n",
    "    train_loss = train_loss/len(train_loader)\n",
    "    print('Epoch: {} \\tTraining Loss: {:.6f}'.format(\n",
    "        epoch, \n",
    "        train_loss\n",
    "        ))"
   ]
  },
  {
   "cell_type": "code",
   "execution_count": 72,
   "metadata": {},
   "outputs": [
    {
     "data": {
      "image/png": "[encoded data removed]",
      "text/plain": [
       "<Figure size 1800x288 with 20 Axes>"
      ]
     },
     "metadata": {
      "needs_background": "light"
     },
     "output_type": "display_data"
    }
   ],
   "source": [
    "# obtain one batch of test images\n",
    "dataiter = iter(test_loader)\n",
    "images, labels = dataiter.next()\n",
    "\n",
    "# add noise to the test images\n",
    "noisy_imgs = images + noise_factor * torch.randn(*images.shape)\n",
    "noisy_imgs = np.clip(noisy_imgs, 0., 1.)\n",
    "\n",
    "# get sample outputs\n",
    "output = model(noisy_imgs.cuda())\n",
    "# prep images for display\n",
    "noisy_imgs = noisy_imgs.numpy()\n",
    "\n",
    "# output is resized into a batch of iages\n",
    "output = output.cpu().view(batch_size, 1, 28, 28)\n",
    "# use detach when it's an output that requires_grad\n",
    "output = output.detach().numpy()\n",
    "\n",
    "# plot the first ten input images and then reconstructed images\n",
    "fig, axes = plt.subplots(nrows=2, ncols=10, sharex=True, sharey=True, figsize=(25,4))\n",
    "\n",
    "# input images on top row, reconstructions on bottom\n",
    "for noisy_imgs, row in zip([noisy_imgs, output], axes):\n",
    "    for img, ax in zip(noisy_imgs, row):\n",
    "        ax.imshow(np.squeeze(img), cmap='gray')\n",
    "        ax.get_xaxis().set_visible(False)\n",
    "        ax.get_yaxis().set_visible(False)"
   ]
  },
  {
   "cell_type": "markdown",
   "metadata": {},
   "source": [
    "## Checking out the results\n",
    "\n",
    "Here I'm adding noise to the test images and passing them through the autoencoder. It does a suprising great job of removing the noise, even though it's sometimes difficult to tell what the original number is."
   ]
  },
  {
   "cell_type": "code",
   "execution_count": null,
   "metadata": {
    "collapsed": true
   },
   "outputs": [],
   "source": []
  }
 ],
 "metadata": {
  "kernelspec": {
   "display_name": "computer_vision_class",
   "language": "python",
   "name": "comp_vis"
  },
  "language_info": {
   "codemirror_mode": {
    "name": "ipython",
    "version": 3
   },
   "file_extension": ".py",
   "mimetype": "text/x-python",
   "name": "python",
   "nbconvert_exporter": "python",
   "pygments_lexer": "ipython3",
   "version": "3.6.9"
  }
 },
 "nbformat": 4,
 "nbformat_minor": 2
}
