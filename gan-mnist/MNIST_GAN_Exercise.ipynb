{
 "cells": [
  {
   "cell_type": "markdown",
   "metadata": {},
   "source": [
    "# Generative Adversarial Network\n",
    "\n",
    "In this notebook, we'll be building a generative adversarial network (GAN) trained on the MNIST dataset. From this, we'll be able to generate new handwritten digits!\n",
    "\n",
    "GANs were [first reported on](https://arxiv.org/abs/1406.2661) in 2014 from Ian Goodfellow and others in Yoshua Bengio's lab. Since then, GANs have exploded in popularity. Here are a few examples to check out:\n",
    "\n",
    "* [Pix2Pix](https://affinelayer.com/pixsrv/) \n",
    "* [CycleGAN & Pix2Pix in PyTorch, Jun-Yan Zhu](https://github.com/junyanz/pytorch-CycleGAN-and-pix2pix)\n",
    "* [A list of generative models](https://github.com/wiseodd/generative-models)\n",
    "\n",
    "The idea behind GANs is that you have two networks, a generator $G$ and a discriminator $D$, competing against each other. The generator makes \"fake\" data to pass to the discriminator. The discriminator also sees real training data and predicts if the data it's received is real or fake. \n",
    "> * The generator is trained to fool the discriminator, it wants to output data that looks _as close as possible_ to real, training data. \n",
    "* The discriminator is a classifier that is trained to figure out which data is real and which is fake. \n",
    "\n",
    "What ends up happening is that the generator learns to make data that is indistinguishable from real data to the discriminator.\n",
    "\n",
    "<img src='assets/gan_pipeline.png' width=70% />\n",
    "\n",
    "The general structure of a GAN is shown in the diagram above, using MNIST images as data. The latent sample is a random vector that the generator uses to construct its fake images. This is often called a **latent vector** and that vector space is called **latent space**. As the generator trains, it figures out how to map latent vectors to recognizable images that can fool the discriminator.\n",
    "\n",
    "If you're interested in generating only new images, you can throw out the discriminator after training. In this notebook, I'll show you how to define and train these adversarial networks in PyTorch and generate new images!"
   ]
  },
  {
   "cell_type": "code",
   "execution_count": 1,
   "metadata": {},
   "outputs": [],
   "source": [
    "%matplotlib inline\n",
    "\n",
    "import numpy as np\n",
    "import torch\n",
    "import matplotlib.pyplot as plt\n",
    "from torch import nn, optim\n",
    "import torch.nn.functional as F"
   ]
  },
  {
   "cell_type": "code",
   "execution_count": 2,
   "metadata": {},
   "outputs": [
    {
     "data": {
      "text/plain": [
       "True"
      ]
     },
     "execution_count": 2,
     "metadata": {},
     "output_type": "execute_result"
    }
   ],
   "source": [
    "torch.cuda.is_available()"
   ]
  },
  {
   "cell_type": "code",
   "execution_count": 3,
   "metadata": {},
   "outputs": [
    {
     "name": "stdout",
     "output_type": "stream",
     "text": [
      "cuda\n"
     ]
    }
   ],
   "source": [
    "device = torch.device(\"cuda\" if torch.cuda.is_available() else \"cpu\")\n",
    "print(device)"
   ]
  },
  {
   "cell_type": "code",
   "execution_count": 4,
   "metadata": {},
   "outputs": [],
   "source": [
    "from torchvision import datasets\n",
    "import torchvision.transforms as transforms\n",
    "\n",
    "# number of subprocesses to use for data loading\n",
    "num_workers = 0\n",
    "# how many samples per batch to load\n",
    "batch_size = 64\n",
    "\n",
    "# convert data to torch.FloatTensor\n",
    "transform = transforms.ToTensor()\n",
    "\n",
    "# get the training datasets\n",
    "train_data = datasets.MNIST(root='data', train=True,\n",
    "                                   download=True, transform=transform)\n",
    "\n",
    "# prepare data loader\n",
    "train_loader = torch.utils.data.DataLoader(train_data, batch_size=batch_size,\n",
    "                                           num_workers=num_workers)"
   ]
  },
  {
   "cell_type": "markdown",
   "metadata": {},
   "source": [
    "### Visualize the data"
   ]
  },
  {
   "cell_type": "code",
   "execution_count": 5,
   "metadata": {},
   "outputs": [
    {
     "data": {
      "text/plain": [
       "<matplotlib.image.AxesImage at 0x7f90a103f978>"
      ]
     },
     "execution_count": 5,
     "metadata": {},
     "output_type": "execute_result"
    },
    {
     "data": {
      "image/png": "[encoded data removed]",
      "text/plain": [
       "<Figure size 216x216 with 1 Axes>"
      ]
     },
     "metadata": {
      "needs_background": "light"
     },
     "output_type": "display_data"
    }
   ],
   "source": [
    "# obtain one batch of training images\n",
    "dataiter = iter(train_loader)\n",
    "images, labels = dataiter.next()\n",
    "images = images.numpy()\n",
    "\n",
    "# get one image from the batch\n",
    "img = np.squeeze(images[0])\n",
    "\n",
    "fig = plt.figure(figsize = (3,3)) \n",
    "ax = fig.add_subplot(111)\n",
    "ax.imshow(img, cmap='gray')"
   ]
  },
  {
   "cell_type": "markdown",
   "metadata": {},
   "source": [
    "---\n",
    "# Define the Model\n",
    "\n",
    "A GAN is comprised of two adversarial networks, a discriminator and a generator."
   ]
  },
  {
   "cell_type": "markdown",
   "metadata": {},
   "source": [
    "## Discriminator\n",
    "\n",
    "The discriminator network is going to be a pretty typical linear classifier. To make this network a universal function approximator, we'll need at least one hidden layer, and these hidden layers should have one key attribute:\n",
    "> All hidden layers will have a [Leaky ReLu](https://pytorch.org/docs/stable/nn.html#torch.nn.LeakyReLU) activation function applied to their outputs.\n",
    "\n",
    "<img src='assets/gan_network.png' width=70% />\n",
    "\n",
    "#### Leaky ReLu\n",
    "\n",
    "We should use a leaky ReLU to allow gradients to flow backwards through the layer unimpeded. A leaky ReLU is like a normal ReLU, except that there is a small non-zero output for negative input values.\n",
    "\n",
    "<img src='assets/leaky_relu.png' width=40% />\n",
    "\n",
    "#### Sigmoid Output\n",
    "\n",
    "We'll also take the approach of using a more numerically stable loss function on the outputs. Recall that we want the discriminator to output a value 0-1 indicating whether an image is _real or fake_. \n",
    "> We will ultimately use [BCEWithLogitsLoss](https://pytorch.org/docs/stable/nn.html#bcewithlogitsloss), which combines a `sigmoid` activation function **and** and binary cross entropy loss in one function. \n",
    "\n",
    "So, our final output layer should not have any activation function applied to it."
   ]
  },
  {
   "cell_type": "code",
   "execution_count": 6,
   "metadata": {},
   "outputs": [],
   "source": [
    "import torch.nn as nn\n",
    "import torch.nn.functional as F\n",
    "\n",
    "class Discriminator(nn.Module):\n",
    "\n",
    "    def __init__(self, input_size, hidden_dim, output_size):\n",
    "        super(Discriminator, self).__init__()\n",
    "        \n",
    "        # define all layers\n",
    "        # notice the input image is flattened 28x28 = 784\n",
    "        self.fc1 = nn.Linear(input_size, hidden_dim*4)\n",
    "        self.fc2 = nn.Linear(hidden_dim*4, hidden_dim*2)\n",
    "        self.fc3 = nn.Linear(hidden_dim*2, hidden_dim)\n",
    "        # output is of dimension 1 because it is 0 = fake, 1 = real , unlike mnist 10 digit classfier than had an output of 10\n",
    "        self.fc4 = nn.Linear(hidden_dim, output_size)\n",
    "        self.leaky_relu = nn.LeakyReLU(0.2)\n",
    "        self.dropout = nn.Dropout(0.25)\n",
    "        \n",
    "    def forward(self, x):\n",
    "        # flatten image\n",
    "        # double check the shape of x\n",
    "        x = x.view(-1, input_size)\n",
    "        # pass x through all layers\n",
    "        # apply leaky relu activation to all hidden layers\n",
    "        fc1_pre_activation = self.fc1(x)\n",
    "        fc1_post_activation = self.leaky_relu(fc1_pre_activation)\n",
    "        fc1_dropout = self.dropout(fc1_post_activation)\n",
    "        \n",
    "        fc2_pre_activation = self.fc2(fc1_dropout)\n",
    "        fc2_post_activation = self.leaky_relu(fc2_pre_activation)\n",
    "        fc2_dropout = self.dropout(fc2_post_activation)\n",
    "        \n",
    "        fc3_pre_activation = self.fc3(fc2_dropout)\n",
    "        fc3_post_activation = self.leaky_relu(fc3_pre_activation)\n",
    "        fc3_dropout = self.dropout(fc3_post_activation)\n",
    "        \n",
    "        fc4_pre_activation = self.fc4(fc3_dropout)\n",
    "        # fc4_post_activation = self.leaky_relu(fc4_pre_activation)\n",
    "        # fc4_dropout = self.dropout(fc4_post_activation)\n",
    "        # x = F.log_softmax(self.fc4(x), dim=1)\n",
    "        x = fc4_pre_activation\n",
    "        return x\n"
   ]
  },
  {
   "cell_type": "markdown",
   "metadata": {},
   "source": [
    "## Generator\n",
    "\n",
    "The generator network will be almost exactly the same as the discriminator network, except that we're applying a [tanh activation function](https://pytorch.org/docs/stable/nn.html#tanh) to our output layer.\n",
    "\n",
    "#### tanh Output\n",
    "The generator has been found to perform the best with $tanh$ for the generator output, which scales the output to be between -1 and 1, instead of 0 and 1. \n",
    "\n",
    "<img src='assets/tanh_fn.png' width=40% />\n",
    "\n",
    "Recall that we also want these outputs to be comparable to the *real* input pixel values, which are read in as normalized values between 0 and 1. \n",
    "> So, we'll also have to **scale our real input images to have pixel values between -1 and 1** when we train the discriminator. \n",
    "\n",
    "I'll do this in the training loop, later on."
   ]
  },
  {
   "cell_type": "code",
   "execution_count": 8,
   "metadata": {},
   "outputs": [],
   "source": [
    "class Generator(nn.Module):\n",
    "\n",
    "    def __init__(self, input_size, hidden_dim, output_size):\n",
    "        super(Generator, self).__init__()\n",
    "        \n",
    "        # define all layers\n",
    "        # input is a random image of size : dim * dim = input_size. \n",
    "        #  input is getting larger and larger unlike discriminator\n",
    "        self.fc1 = nn.Linear(input_size, hidden_dim)\n",
    "        self.fc2 = nn.Linear(hidden_dim, hidden_dim*2)\n",
    "        self.fc3 = nn.Linear(hidden_dim*2, hidden_dim*4)\n",
    "        self.fc4 = nn.Linear(hidden_dim*4, output_size)\n",
    "        self.leaky_relu = nn.LeakyReLU(0.2)\n",
    "        self.dropout = nn.Dropout(0.25)\n",
    "        \n",
    "\n",
    "    def forward(self, x):\n",
    "        # pass x through all layers\n",
    "        \n",
    "        # final layer should have tanh applied\n",
    "        fc1_pre_activation = self.fc1(x)\n",
    "        fc1_post_activation = self.leaky_relu(fc1_pre_activation)\n",
    "        fc1_dropout = self.dropout(fc1_post_activation)\n",
    "        \n",
    "        fc2_pre_activation = self.fc2(fc1_dropout)\n",
    "        fc2_post_activation = self.leaky_relu(fc2_pre_activation)\n",
    "        fc2_dropout = self.dropout(fc2_post_activation)\n",
    "        \n",
    "        fc3_pre_activation = self.fc3(fc2_dropout)\n",
    "        fc3_post_activation = self.leaky_relu(fc3_pre_activation)\n",
    "        fc3_dropout = self.dropout(fc3_post_activation)\n",
    "        \n",
    "        fc4_pre_activation = self.fc4(fc3_dropout)\n",
    "        # fc4_post_activation = self.leaky_relu(fc4_pre_activation)\n",
    "        # fc4_dropout = self.dropout(fc4_post_activation)\n",
    "        # x = F.log_softmax(self.fc4(x), dim=1)\n",
    "\n",
    "        x = F.tanh(fc4_pre_activation)\n",
    "        return x"
   ]
  },
  {
   "cell_type": "markdown",
   "metadata": {},
   "source": [
    "## Model hyperparameters"
   ]
  },
  {
   "cell_type": "code",
   "execution_count": 11,
   "metadata": {},
   "outputs": [],
   "source": [
    "# Discriminator hyperparams\n",
    "\n",
    "# Size of input image to discriminator (28*28)\n",
    "input_size = 784\n",
    "# Size of discriminator output (real or fake)\n",
    "d_output_size = 1\n",
    "# Size of last hidden layer in the discriminator\n",
    "d_hidden_size = 32\n",
    "\n",
    "# Generator hyperparams\n",
    "\n",
    "# Size of latent vector to give to generator\n",
    "z_size = 100\n",
    "# Size of discriminator output (generated image)\n",
    "g_output_size = 784\n",
    "# Size of first hidden layer in the generator\n",
    "# the rsults is very sensitive specially if this is large, the generator does very poorly.\n",
    "# it seems you need to compress the image quite a bit before increasing its size\n",
    "# or you need to gradually increase its size\n",
    "g_hidden_size = 32  "
   ]
  },
  {
   "cell_type": "markdown",
   "metadata": {},
   "source": [
    "## Build complete network\n",
    "\n",
    "Now we're instantiating the discriminator and generator from the classes defined above. Make sure you've passed in the correct input arguments."
   ]
  },
  {
   "cell_type": "code",
   "execution_count": 12,
   "metadata": {},
   "outputs": [
    {
     "name": "stdout",
     "output_type": "stream",
     "text": [
      "Discriminator(\n",
      "  (fc1): Linear(in_features=784, out_features=128, bias=True)\n",
      "  (fc2): Linear(in_features=128, out_features=64, bias=True)\n",
      "  (fc3): Linear(in_features=64, out_features=32, bias=True)\n",
      "  (fc4): Linear(in_features=32, out_features=1, bias=True)\n",
      "  (leaky_relu): LeakyReLU(negative_slope=0.2)\n",
      "  (dropout): Dropout(p=0.25)\n",
      ")\n",
      "\n",
      "Generator(\n",
      "  (fc1): Linear(in_features=100, out_features=32, bias=True)\n",
      "  (fc2): Linear(in_features=32, out_features=64, bias=True)\n",
      "  (fc3): Linear(in_features=64, out_features=128, bias=True)\n",
      "  (fc4): Linear(in_features=128, out_features=784, bias=True)\n",
      "  (leaky_relu): LeakyReLU(negative_slope=0.2)\n",
      "  (dropout): Dropout(p=0.25)\n",
      ")\n"
     ]
    }
   ],
   "source": [
    "# instantiate discriminator and generator\n",
    "D = Discriminator(input_size, d_hidden_size, d_output_size)\n",
    "D = D.cuda()\n",
    "G = Generator(z_size, g_hidden_size, g_output_size)\n",
    "G = G.cuda()\n",
    "# check that they are as you expect\n",
    "print(D)\n",
    "print()\n",
    "print(G)"
   ]
  },
  {
   "cell_type": "markdown",
   "metadata": {},
   "source": [
    "---\n",
    "## Discriminator and Generator Losses\n",
    "\n",
    "Now we need to calculate the losses. \n",
    "\n",
    "### Discriminator Losses\n",
    "\n",
    "> * For the discriminator, the total loss is the sum of the losses for real and fake images, `d_loss = d_real_loss + d_fake_loss`. \n",
    "* Remember that we want the discriminator to output 1 for real images and 0 for fake images, so we need to set up the losses to reflect that.\n",
    "\n",
    "<img src='assets/gan_pipeline.png' width=70% />\n",
    "\n",
    "The losses will by binary cross entropy loss with logits, which we can get with [BCEWithLogitsLoss](https://pytorch.org/docs/stable/nn.html#bcewithlogitsloss). This combines a `sigmoid` activation function **and** and binary cross entropy loss in one function.\n",
    "\n",
    "For the real images, we want `D(real_images) = 1`. That is, we want the discriminator to classify the the real images with a label = 1, indicating that these are real. To help the discriminator generalize better, the labels are **reduced a bit from 1.0 to 0.9**. For this, we'll use the parameter `smooth`; if True, then we should smooth our labels. In PyTorch, this looks like `labels = torch.ones(size) * 0.9`\n",
    "\n",
    "The discriminator loss for the fake data is similar. We want `D(fake_images) = 0`, where the fake images are the _generator output_, `fake_images = G(z)`. \n",
    "\n",
    "### Generator Loss\n",
    "\n",
    "The generator loss will look similar only with flipped labels. The generator's goal is to get `D(fake_images) = 1`. In this case, the labels are **flipped** to represent that the generator is trying to fool the discriminator into thinking that the images it generates (fakes) are real!"
   ]
  },
  {
   "cell_type": "code",
   "execution_count": 13,
   "metadata": {},
   "outputs": [],
   "source": [
    "# Calculate losses\n",
    "def real_loss(D_out, smooth=False):\n",
    "    # compare logits to real labels\n",
    "    # smooth labels if smooth=True\n",
    "    # BCE is the regular cross entropy loss with only two classes \n",
    "    # this is more stable than using sigmoid as the final layer and then BCEloss which suffers from numerical instability because \n",
    "    # sigmoid(large) = 1, sigmoid(very very larger) = 1, same goes for the negative values in the sigmoid \n",
    "    # the BCE applies sigmoid to logits output\n",
    "    D_out.to(device)\n",
    "    criterion = nn.BCEWithLogitsLoss().cuda()\n",
    "    batch_size = D_out.size(0)\n",
    "    labels = torch.ones(batch_size).to(device)\n",
    "    if smooth:\n",
    "        # format is criterion(y_hat or prediction , y_true or label)\n",
    "        loss = criterion(D_out.squeeze(), labels * 0.9) \n",
    "    else:\n",
    "        loss = criterion(D_out.squeeze(), labels )   # real labels\n",
    "    return loss\n",
    "\n",
    "\n",
    "def fake_loss(D_out):\n",
    "    # compare logits to fake labels\n",
    "    criterion = nn.BCEWithLogitsLoss().cuda()\n",
    "    batch_size = D_out.size(0)\n",
    "    labels = torch.zeros(batch_size).to(device)\n",
    "    loss = criterion(D_out.squeeze(), labels) \n",
    "    return loss"
   ]
  },
  {
   "cell_type": "markdown",
   "metadata": {},
   "source": [
    "## Optimizers\n",
    "\n",
    "We want to update the generator and discriminator variables separately. So, we'll define two separate Adam optimizers."
   ]
  },
  {
   "cell_type": "code",
   "execution_count": 14,
   "metadata": {
    "scrolled": true
   },
   "outputs": [],
   "source": [
    "import torch.optim as optim\n",
    "\n",
    "# learning rate for optimizers\n",
    "lr = 0.002\n",
    "\n",
    "# Create optimizers for the discriminator and generator\n",
    "discriminator_parameters = list(D.parameters())\n",
    "d_optimizer = torch.optim.Adam(D.parameters(), lr)\n",
    "\n",
    "generator_parameters = list(G.parameters())\n",
    "g_optimizer = torch.optim.Adam(generator_parameters, lr)"
   ]
  },
  {
   "cell_type": "markdown",
   "metadata": {},
   "source": [
    "---\n",
    "## Training\n",
    "\n",
    "Training will involve alternating between training the discriminator and the generator. We'll use our functions `real_loss` and `fake_loss` to help us calculate the discriminator losses in all of the following cases.\n",
    "\n",
    "### Discriminator training\n",
    "1. Compute the discriminator loss on real, training images        \n",
    "2. Generate fake images\n",
    "3. Compute the discriminator loss on fake, generated images     \n",
    "4. Add up real and fake loss\n",
    "5. Perform backpropagation + an optimization step to update the discriminator's weights\n",
    "\n",
    "### Generator training\n",
    "1. Generate fake images\n",
    "2. Compute the discriminator loss on fake images, using **flipped** labels!\n",
    "3. Perform backpropagation + an optimization step to update the generator's weights\n",
    "\n",
    "#### Saving Samples\n",
    "\n",
    "As we train, we'll also print out some loss statistics and save some generated \"fake\" samples."
   ]
  },
  {
   "cell_type": "code",
   "execution_count": 15,
   "metadata": {
    "scrolled": true
   },
   "outputs": [
    {
     "name": "stdout",
     "output_type": "stream",
     "text": [
      "Epoch [    1/  100] | d_loss: 1.3998 | g_loss: 0.7423\n"
     ]
    },
    {
     "name": "stderr",
     "output_type": "stream",
     "text": [
      "/home/pemfir/anaconda3/envs/comp_vis/lib/python3.6/site-packages/torch/nn/functional.py:1320: UserWarning: nn.functional.tanh is deprecated. Use torch.tanh instead.\n",
      "  warnings.warn(\"nn.functional.tanh is deprecated. Use torch.tanh instead.\")\n"
     ]
    },
    {
     "name": "stdout",
     "output_type": "stream",
     "text": [
      "Epoch [    1/  100] | d_loss: 1.6699 | g_loss: 1.4566\n",
      "Epoch [    1/  100] | d_loss: 1.1496 | g_loss: 0.9697\n",
      "Epoch [    2/  100] | d_loss: 1.6176 | g_loss: 0.3501\n",
      "Epoch [    2/  100] | d_loss: 1.3528 | g_loss: 0.7072\n",
      "Epoch [    2/  100] | d_loss: 1.3977 | g_loss: 0.9091\n",
      "Epoch [    3/  100] | d_loss: 1.0537 | g_loss: 1.1170\n",
      "Epoch [    3/  100] | d_loss: 0.8755 | g_loss: 1.7625\n",
      "Epoch [    3/  100] | d_loss: 0.7028 | g_loss: 1.7466\n",
      "Epoch [    4/  100] | d_loss: 1.1681 | g_loss: 1.0176\n",
      "Epoch [    4/  100] | d_loss: 1.0940 | g_loss: 1.3963\n",
      "Epoch [    4/  100] | d_loss: 1.2461 | g_loss: 1.5119\n",
      "Epoch [    5/  100] | d_loss: 1.0197 | g_loss: 1.5967\n",
      "Epoch [    5/  100] | d_loss: 1.0631 | g_loss: 1.2236\n",
      "Epoch [    5/  100] | d_loss: 1.0784 | g_loss: 1.5067\n",
      "Epoch [    6/  100] | d_loss: 1.2168 | g_loss: 0.8397\n",
      "Epoch [    6/  100] | d_loss: 1.0751 | g_loss: 1.0795\n",
      "Epoch [    6/  100] | d_loss: 1.1622 | g_loss: 1.4430\n",
      "Epoch [    7/  100] | d_loss: 0.9259 | g_loss: 1.3109\n",
      "Epoch [    7/  100] | d_loss: 0.6844 | g_loss: 1.6843\n",
      "Epoch [    7/  100] | d_loss: 0.9462 | g_loss: 1.2942\n",
      "Epoch [    8/  100] | d_loss: 1.1497 | g_loss: 1.1041\n",
      "Epoch [    8/  100] | d_loss: 1.0312 | g_loss: 1.1354\n",
      "Epoch [    8/  100] | d_loss: 0.9238 | g_loss: 1.4251\n",
      "Epoch [    9/  100] | d_loss: 1.3179 | g_loss: 1.0335\n",
      "Epoch [    9/  100] | d_loss: 0.8271 | g_loss: 1.1537\n",
      "Epoch [    9/  100] | d_loss: 0.9982 | g_loss: 1.2786\n",
      "Epoch [   10/  100] | d_loss: 1.2815 | g_loss: 0.9160\n",
      "Epoch [   10/  100] | d_loss: 1.2706 | g_loss: 1.0155\n",
      "Epoch [   10/  100] | d_loss: 1.3099 | g_loss: 1.1328\n",
      "Epoch [   11/  100] | d_loss: 1.2251 | g_loss: 1.0693\n",
      "Epoch [   11/  100] | d_loss: 1.1330 | g_loss: 0.9682\n",
      "Epoch [   11/  100] | d_loss: 1.1300 | g_loss: 1.0638\n",
      "Epoch [   12/  100] | d_loss: 1.2561 | g_loss: 1.1648\n",
      "Epoch [   12/  100] | d_loss: 1.1993 | g_loss: 0.9175\n",
      "Epoch [   12/  100] | d_loss: 1.2597 | g_loss: 0.9242\n",
      "Epoch [   13/  100] | d_loss: 1.2706 | g_loss: 1.1843\n",
      "Epoch [   13/  100] | d_loss: 1.2166 | g_loss: 1.0412\n",
      "Epoch [   13/  100] | d_loss: 1.0497 | g_loss: 1.2567\n",
      "Epoch [   14/  100] | d_loss: 1.1248 | g_loss: 1.1767\n",
      "Epoch [   14/  100] | d_loss: 1.0952 | g_loss: 1.0642\n",
      "Epoch [   14/  100] | d_loss: 1.2763 | g_loss: 1.2211\n",
      "Epoch [   15/  100] | d_loss: 1.3001 | g_loss: 0.8735\n",
      "Epoch [   15/  100] | d_loss: 1.1698 | g_loss: 1.0901\n",
      "Epoch [   15/  100] | d_loss: 1.2689 | g_loss: 1.1242\n",
      "Epoch [   16/  100] | d_loss: 1.0952 | g_loss: 0.9779\n",
      "Epoch [   16/  100] | d_loss: 1.1367 | g_loss: 0.9422\n",
      "Epoch [   16/  100] | d_loss: 1.1945 | g_loss: 1.0121\n",
      "Epoch [   17/  100] | d_loss: 1.2708 | g_loss: 1.0711\n",
      "Epoch [   17/  100] | d_loss: 1.1812 | g_loss: 0.9382\n",
      "Epoch [   17/  100] | d_loss: 1.2587 | g_loss: 0.9277\n",
      "Epoch [   18/  100] | d_loss: 1.2285 | g_loss: 1.0959\n",
      "Epoch [   18/  100] | d_loss: 1.1793 | g_loss: 0.9725\n",
      "Epoch [   18/  100] | d_loss: 1.4717 | g_loss: 0.9863\n",
      "Epoch [   19/  100] | d_loss: 1.1701 | g_loss: 1.0766\n",
      "Epoch [   19/  100] | d_loss: 1.1653 | g_loss: 1.1473\n",
      "Epoch [   19/  100] | d_loss: 1.3928 | g_loss: 0.9621\n",
      "Epoch [   20/  100] | d_loss: 1.4549 | g_loss: 0.9651\n",
      "Epoch [   20/  100] | d_loss: 1.0041 | g_loss: 1.0325\n",
      "Epoch [   20/  100] | d_loss: 1.1135 | g_loss: 1.4103\n",
      "Epoch [   21/  100] | d_loss: 1.1990 | g_loss: 1.1155\n",
      "Epoch [   21/  100] | d_loss: 1.0105 | g_loss: 1.0493\n",
      "Epoch [   21/  100] | d_loss: 1.2087 | g_loss: 1.2080\n",
      "Epoch [   22/  100] | d_loss: 1.2502 | g_loss: 1.0723\n",
      "Epoch [   22/  100] | d_loss: 1.1243 | g_loss: 1.0661\n",
      "Epoch [   22/  100] | d_loss: 1.4365 | g_loss: 0.9611\n",
      "Epoch [   23/  100] | d_loss: 1.2279 | g_loss: 0.9878\n",
      "Epoch [   23/  100] | d_loss: 0.9494 | g_loss: 0.9810\n",
      "Epoch [   23/  100] | d_loss: 1.3266 | g_loss: 1.0939\n",
      "Epoch [   24/  100] | d_loss: 1.1942 | g_loss: 0.9419\n",
      "Epoch [   24/  100] | d_loss: 1.0901 | g_loss: 1.2088\n",
      "Epoch [   24/  100] | d_loss: 1.2703 | g_loss: 1.0330\n",
      "Epoch [   25/  100] | d_loss: 1.1262 | g_loss: 0.8286\n",
      "Epoch [   25/  100] | d_loss: 1.2679 | g_loss: 0.9739\n",
      "Epoch [   25/  100] | d_loss: 1.3180 | g_loss: 1.0660\n",
      "Epoch [   26/  100] | d_loss: 1.1581 | g_loss: 1.1713\n",
      "Epoch [   26/  100] | d_loss: 1.1553 | g_loss: 0.9810\n",
      "Epoch [   26/  100] | d_loss: 1.3311 | g_loss: 0.9595\n",
      "Epoch [   27/  100] | d_loss: 1.1499 | g_loss: 0.8695\n",
      "Epoch [   27/  100] | d_loss: 1.2359 | g_loss: 0.7455\n",
      "Epoch [   27/  100] | d_loss: 1.0915 | g_loss: 1.5148\n",
      "Epoch [   28/  100] | d_loss: 1.2366 | g_loss: 0.9383\n",
      "Epoch [   28/  100] | d_loss: 1.0694 | g_loss: 1.0930\n",
      "Epoch [   28/  100] | d_loss: 1.1596 | g_loss: 1.1398\n",
      "Epoch [   29/  100] | d_loss: 1.4283 | g_loss: 0.8874\n",
      "Epoch [   29/  100] | d_loss: 1.1650 | g_loss: 0.9815\n",
      "Epoch [   29/  100] | d_loss: 1.4899 | g_loss: 0.8631\n",
      "Epoch [   30/  100] | d_loss: 1.0408 | g_loss: 1.6797\n",
      "Epoch [   30/  100] | d_loss: 1.1332 | g_loss: 0.9811\n",
      "Epoch [   30/  100] | d_loss: 1.4467 | g_loss: 0.8502\n",
      "Epoch [   31/  100] | d_loss: 1.1562 | g_loss: 0.8419\n",
      "Epoch [   31/  100] | d_loss: 1.1649 | g_loss: 1.0498\n",
      "Epoch [   31/  100] | d_loss: 1.2516 | g_loss: 1.0052\n",
      "Epoch [   32/  100] | d_loss: 1.2213 | g_loss: 0.9173\n",
      "Epoch [   32/  100] | d_loss: 1.1835 | g_loss: 0.9544\n",
      "Epoch [   32/  100] | d_loss: 1.3185 | g_loss: 0.9038\n",
      "Epoch [   33/  100] | d_loss: 1.2615 | g_loss: 0.8548\n",
      "Epoch [   33/  100] | d_loss: 1.2799 | g_loss: 0.9950\n",
      "Epoch [   33/  100] | d_loss: 1.4276 | g_loss: 1.0161\n",
      "Epoch [   34/  100] | d_loss: 1.2025 | g_loss: 0.7909\n",
      "Epoch [   34/  100] | d_loss: 1.2094 | g_loss: 0.8725\n",
      "Epoch [   34/  100] | d_loss: 1.2323 | g_loss: 1.2763\n",
      "Epoch [   35/  100] | d_loss: 1.2113 | g_loss: 0.8822\n",
      "Epoch [   35/  100] | d_loss: 1.1994 | g_loss: 1.0135\n",
      "Epoch [   35/  100] | d_loss: 1.2584 | g_loss: 0.9116\n",
      "Epoch [   36/  100] | d_loss: 1.2162 | g_loss: 0.9648\n",
      "Epoch [   36/  100] | d_loss: 1.3288 | g_loss: 0.9036\n",
      "Epoch [   36/  100] | d_loss: 1.2507 | g_loss: 1.1530\n",
      "Epoch [   37/  100] | d_loss: 1.2670 | g_loss: 0.9641\n",
      "Epoch [   37/  100] | d_loss: 1.1277 | g_loss: 1.0766\n",
      "Epoch [   37/  100] | d_loss: 1.3249 | g_loss: 1.1028\n",
      "Epoch [   38/  100] | d_loss: 1.2289 | g_loss: 1.0116\n",
      "Epoch [   38/  100] | d_loss: 1.2553 | g_loss: 0.9785\n",
      "Epoch [   38/  100] | d_loss: 1.3993 | g_loss: 0.9628\n",
      "Epoch [   39/  100] | d_loss: 1.3330 | g_loss: 0.8514\n",
      "Epoch [   39/  100] | d_loss: 1.2523 | g_loss: 1.0965\n",
      "Epoch [   39/  100] | d_loss: 1.3478 | g_loss: 1.2003\n",
      "Epoch [   40/  100] | d_loss: 1.1801 | g_loss: 1.4501\n",
      "Epoch [   40/  100] | d_loss: 1.1748 | g_loss: 1.0967\n",
      "Epoch [   40/  100] | d_loss: 1.3665 | g_loss: 1.0548\n",
      "Epoch [   41/  100] | d_loss: 1.0888 | g_loss: 0.9422\n",
      "Epoch [   41/  100] | d_loss: 1.0773 | g_loss: 1.3206\n",
      "Epoch [   41/  100] | d_loss: 1.1864 | g_loss: 0.9707\n",
      "Epoch [   42/  100] | d_loss: 1.2679 | g_loss: 0.8837\n",
      "Epoch [   42/  100] | d_loss: 1.1757 | g_loss: 1.1094\n",
      "Epoch [   42/  100] | d_loss: 1.2668 | g_loss: 1.1679\n",
      "Epoch [   43/  100] | d_loss: 1.4202 | g_loss: 0.9058\n",
      "Epoch [   43/  100] | d_loss: 1.2828 | g_loss: 0.9249\n",
      "Epoch [   43/  100] | d_loss: 1.3896 | g_loss: 1.0097\n",
      "Epoch [   44/  100] | d_loss: 1.4406 | g_loss: 1.1035\n",
      "Epoch [   44/  100] | d_loss: 1.2695 | g_loss: 0.7767\n",
      "Epoch [   44/  100] | d_loss: 1.2542 | g_loss: 1.1186\n",
      "Epoch [   45/  100] | d_loss: 1.2516 | g_loss: 1.1054\n",
      "Epoch [   45/  100] | d_loss: 1.2700 | g_loss: 0.9471\n",
      "Epoch [   45/  100] | d_loss: 1.2452 | g_loss: 1.2085\n",
      "Epoch [   46/  100] | d_loss: 1.4320 | g_loss: 0.8869\n",
      "Epoch [   46/  100] | d_loss: 1.2771 | g_loss: 0.8520\n",
      "Epoch [   46/  100] | d_loss: 1.2071 | g_loss: 0.9772\n",
      "Epoch [   47/  100] | d_loss: 1.2471 | g_loss: 0.9916\n",
      "Epoch [   47/  100] | d_loss: 1.2584 | g_loss: 0.8715\n",
      "Epoch [   47/  100] | d_loss: 1.3424 | g_loss: 0.9015\n",
      "Epoch [   48/  100] | d_loss: 1.1929 | g_loss: 0.9986\n",
      "Epoch [   48/  100] | d_loss: 1.1551 | g_loss: 1.1279\n",
      "Epoch [   48/  100] | d_loss: 1.2759 | g_loss: 1.0716\n",
      "Epoch [   49/  100] | d_loss: 1.2966 | g_loss: 1.2347\n",
      "Epoch [   49/  100] | d_loss: 1.2678 | g_loss: 0.8272\n",
      "Epoch [   49/  100] | d_loss: 1.2697 | g_loss: 1.0678\n",
      "Epoch [   50/  100] | d_loss: 1.1815 | g_loss: 0.9177\n",
      "Epoch [   50/  100] | d_loss: 1.2435 | g_loss: 0.9886\n",
      "Epoch [   50/  100] | d_loss: 1.2814 | g_loss: 0.9874\n",
      "Epoch [   51/  100] | d_loss: 1.2413 | g_loss: 1.3110\n",
      "Epoch [   51/  100] | d_loss: 1.2199 | g_loss: 0.9927\n",
      "Epoch [   51/  100] | d_loss: 1.3085 | g_loss: 0.9628\n"
     ]
    },
    {
     "name": "stdout",
     "output_type": "stream",
     "text": [
      "Epoch [   52/  100] | d_loss: 1.4712 | g_loss: 1.1534\n",
      "Epoch [   52/  100] | d_loss: 1.0331 | g_loss: 1.5609\n",
      "Epoch [   52/  100] | d_loss: 1.2864 | g_loss: 0.9532\n",
      "Epoch [   53/  100] | d_loss: 1.3734 | g_loss: 0.8599\n",
      "Epoch [   53/  100] | d_loss: 1.2807 | g_loss: 1.0626\n",
      "Epoch [   53/  100] | d_loss: 1.2554 | g_loss: 1.0497\n",
      "Epoch [   54/  100] | d_loss: 1.2977 | g_loss: 1.4126\n",
      "Epoch [   54/  100] | d_loss: 1.0804 | g_loss: 0.9402\n",
      "Epoch [   54/  100] | d_loss: 1.2528 | g_loss: 1.0796\n",
      "Epoch [   55/  100] | d_loss: 1.4833 | g_loss: 0.9559\n",
      "Epoch [   55/  100] | d_loss: 1.1987 | g_loss: 0.9681\n",
      "Epoch [   55/  100] | d_loss: 1.2942 | g_loss: 1.2063\n",
      "Epoch [   56/  100] | d_loss: 1.1848 | g_loss: 1.0344\n",
      "Epoch [   56/  100] | d_loss: 1.2574 | g_loss: 0.9190\n",
      "Epoch [   56/  100] | d_loss: 1.4691 | g_loss: 0.9207\n",
      "Epoch [   57/  100] | d_loss: 1.1560 | g_loss: 1.2885\n",
      "Epoch [   57/  100] | d_loss: 1.1379 | g_loss: 0.9654\n",
      "Epoch [   57/  100] | d_loss: 1.4693 | g_loss: 1.1430\n",
      "Epoch [   58/  100] | d_loss: 1.1885 | g_loss: 0.9930\n",
      "Epoch [   58/  100] | d_loss: 1.0512 | g_loss: 1.1094\n",
      "Epoch [   58/  100] | d_loss: 1.3106 | g_loss: 0.8568\n",
      "Epoch [   59/  100] | d_loss: 1.2513 | g_loss: 1.0584\n",
      "Epoch [   59/  100] | d_loss: 1.1734 | g_loss: 1.0841\n",
      "Epoch [   59/  100] | d_loss: 1.5360 | g_loss: 1.0948\n",
      "Epoch [   60/  100] | d_loss: 1.2082 | g_loss: 0.8821\n",
      "Epoch [   60/  100] | d_loss: 1.1064 | g_loss: 1.0879\n",
      "Epoch [   60/  100] | d_loss: 1.3420 | g_loss: 0.9112\n",
      "Epoch [   61/  100] | d_loss: 1.3359 | g_loss: 1.1231\n",
      "Epoch [   61/  100] | d_loss: 1.2188 | g_loss: 0.8845\n",
      "Epoch [   61/  100] | d_loss: 1.3376 | g_loss: 0.8311\n",
      "Epoch [   62/  100] | d_loss: 1.2370 | g_loss: 1.0112\n",
      "Epoch [   62/  100] | d_loss: 1.5547 | g_loss: 0.7374\n",
      "Epoch [   62/  100] | d_loss: 1.3987 | g_loss: 0.9464\n",
      "Epoch [   63/  100] | d_loss: 1.3334 | g_loss: 0.8088\n",
      "Epoch [   63/  100] | d_loss: 1.2152 | g_loss: 1.0143\n",
      "Epoch [   63/  100] | d_loss: 1.2401 | g_loss: 1.0107\n",
      "Epoch [   64/  100] | d_loss: 1.2262 | g_loss: 1.0389\n",
      "Epoch [   64/  100] | d_loss: 1.2433 | g_loss: 0.9467\n",
      "Epoch [   64/  100] | d_loss: 1.2633 | g_loss: 0.8371\n",
      "Epoch [   65/  100] | d_loss: 1.1504 | g_loss: 0.9958\n",
      "Epoch [   65/  100] | d_loss: 1.2143 | g_loss: 1.0073\n",
      "Epoch [   65/  100] | d_loss: 1.4075 | g_loss: 0.8209\n",
      "Epoch [   66/  100] | d_loss: 1.3210 | g_loss: 1.0876\n",
      "Epoch [   66/  100] | d_loss: 1.2232 | g_loss: 0.9668\n",
      "Epoch [   66/  100] | d_loss: 1.3856 | g_loss: 1.1477\n",
      "Epoch [   67/  100] | d_loss: 1.3429 | g_loss: 1.0541\n",
      "Epoch [   67/  100] | d_loss: 1.2723 | g_loss: 0.8466\n",
      "Epoch [   67/  100] | d_loss: 1.3648 | g_loss: 0.7868\n",
      "Epoch [   68/  100] | d_loss: 1.4358 | g_loss: 1.0702\n",
      "Epoch [   68/  100] | d_loss: 1.2328 | g_loss: 0.9032\n",
      "Epoch [   68/  100] | d_loss: 1.2495 | g_loss: 1.1062\n",
      "Epoch [   69/  100] | d_loss: 1.0968 | g_loss: 1.3554\n",
      "Epoch [   69/  100] | d_loss: 1.1347 | g_loss: 0.9941\n",
      "Epoch [   69/  100] | d_loss: 1.2423 | g_loss: 1.0876\n",
      "Epoch [   70/  100] | d_loss: 1.2464 | g_loss: 1.0521\n",
      "Epoch [   70/  100] | d_loss: 1.1770 | g_loss: 0.9385\n",
      "Epoch [   70/  100] | d_loss: 1.4928 | g_loss: 1.3851\n",
      "Epoch [   71/  100] | d_loss: 1.3590 | g_loss: 0.9874\n",
      "Epoch [   71/  100] | d_loss: 1.0045 | g_loss: 1.1863\n",
      "Epoch [   71/  100] | d_loss: 1.3443 | g_loss: 0.9820\n",
      "Epoch [   72/  100] | d_loss: 1.2177 | g_loss: 1.1244\n",
      "Epoch [   72/  100] | d_loss: 1.1554 | g_loss: 0.9984\n",
      "Epoch [   72/  100] | d_loss: 1.4069 | g_loss: 1.0321\n",
      "Epoch [   73/  100] | d_loss: 1.3081 | g_loss: 0.9697\n",
      "Epoch [   73/  100] | d_loss: 1.1185 | g_loss: 1.0383\n",
      "Epoch [   73/  100] | d_loss: 1.2798 | g_loss: 0.8278\n",
      "Epoch [   74/  100] | d_loss: 1.4890 | g_loss: 1.1522\n",
      "Epoch [   74/  100] | d_loss: 1.2301 | g_loss: 1.0845\n",
      "Epoch [   74/  100] | d_loss: 1.3514 | g_loss: 0.9355\n",
      "Epoch [   75/  100] | d_loss: 1.3452 | g_loss: 1.2932\n",
      "Epoch [   75/  100] | d_loss: 1.2349 | g_loss: 1.1181\n",
      "Epoch [   75/  100] | d_loss: 1.3322 | g_loss: 0.9267\n",
      "Epoch [   76/  100] | d_loss: 1.2940 | g_loss: 0.9683\n",
      "Epoch [   76/  100] | d_loss: 1.1519 | g_loss: 1.2955\n",
      "Epoch [   76/  100] | d_loss: 1.3845 | g_loss: 0.8076\n",
      "Epoch [   77/  100] | d_loss: 1.1800 | g_loss: 0.9842\n",
      "Epoch [   77/  100] | d_loss: 1.2225 | g_loss: 0.9072\n",
      "Epoch [   77/  100] | d_loss: 1.2185 | g_loss: 1.0094\n",
      "Epoch [   78/  100] | d_loss: 1.1912 | g_loss: 1.0120\n",
      "Epoch [   78/  100] | d_loss: 1.2357 | g_loss: 0.9599\n",
      "Epoch [   78/  100] | d_loss: 1.4484 | g_loss: 0.9570\n",
      "Epoch [   79/  100] | d_loss: 1.2545 | g_loss: 0.8951\n",
      "Epoch [   79/  100] | d_loss: 1.3209 | g_loss: 1.0549\n",
      "Epoch [   79/  100] | d_loss: 1.5062 | g_loss: 1.1112\n",
      "Epoch [   80/  100] | d_loss: 1.2271 | g_loss: 0.9817\n",
      "Epoch [   80/  100] | d_loss: 1.2925 | g_loss: 0.8718\n",
      "Epoch [   80/  100] | d_loss: 1.5135 | g_loss: 0.8893\n",
      "Epoch [   81/  100] | d_loss: 1.2639 | g_loss: 0.9081\n",
      "Epoch [   81/  100] | d_loss: 1.2557 | g_loss: 1.2400\n",
      "Epoch [   81/  100] | d_loss: 1.5732 | g_loss: 1.0977\n",
      "Epoch [   82/  100] | d_loss: 1.3276 | g_loss: 1.0609\n",
      "Epoch [   82/  100] | d_loss: 1.3546 | g_loss: 1.0418\n",
      "Epoch [   82/  100] | d_loss: 1.3367 | g_loss: 1.0948\n",
      "Epoch [   83/  100] | d_loss: 1.1942 | g_loss: 1.0511\n",
      "Epoch [   83/  100] | d_loss: 1.1050 | g_loss: 1.1641\n",
      "Epoch [   83/  100] | d_loss: 1.3337 | g_loss: 1.2006\n",
      "Epoch [   84/  100] | d_loss: 1.2315 | g_loss: 1.1961\n",
      "Epoch [   84/  100] | d_loss: 1.2453 | g_loss: 0.9904\n",
      "Epoch [   84/  100] | d_loss: 1.3222 | g_loss: 1.0983\n",
      "Epoch [   85/  100] | d_loss: 1.3037 | g_loss: 1.2185\n",
      "Epoch [   85/  100] | d_loss: 1.1590 | g_loss: 0.9872\n",
      "Epoch [   85/  100] | d_loss: 1.2291 | g_loss: 0.9807\n",
      "Epoch [   86/  100] | d_loss: 1.1269 | g_loss: 1.1835\n",
      "Epoch [   86/  100] | d_loss: 1.3037 | g_loss: 1.0325\n",
      "Epoch [   86/  100] | d_loss: 1.3086 | g_loss: 1.0722\n",
      "Epoch [   87/  100] | d_loss: 1.4796 | g_loss: 1.2734\n",
      "Epoch [   87/  100] | d_loss: 1.1375 | g_loss: 1.5793\n",
      "Epoch [   87/  100] | d_loss: 1.3537 | g_loss: 1.0143\n",
      "Epoch [   88/  100] | d_loss: 1.4197 | g_loss: 1.1745\n",
      "Epoch [   88/  100] | d_loss: 1.1226 | g_loss: 0.9787\n",
      "Epoch [   88/  100] | d_loss: 1.3548 | g_loss: 0.9636\n",
      "Epoch [   89/  100] | d_loss: 1.2662 | g_loss: 1.2800\n",
      "Epoch [   89/  100] | d_loss: 1.0937 | g_loss: 1.0719\n",
      "Epoch [   89/  100] | d_loss: 1.2717 | g_loss: 1.2311\n",
      "Epoch [   90/  100] | d_loss: 1.3252 | g_loss: 1.1428\n",
      "Epoch [   90/  100] | d_loss: 1.2188 | g_loss: 0.9433\n",
      "Epoch [   90/  100] | d_loss: 1.3592 | g_loss: 0.9033\n",
      "Epoch [   91/  100] | d_loss: 1.4151 | g_loss: 1.1955\n",
      "Epoch [   91/  100] | d_loss: 1.0455 | g_loss: 1.2789\n",
      "Epoch [   91/  100] | d_loss: 1.3301 | g_loss: 0.9146\n",
      "Epoch [   92/  100] | d_loss: 1.3105 | g_loss: 0.9601\n",
      "Epoch [   92/  100] | d_loss: 1.1007 | g_loss: 1.0830\n",
      "Epoch [   92/  100] | d_loss: 1.2271 | g_loss: 1.1371\n",
      "Epoch [   93/  100] | d_loss: 1.3239 | g_loss: 1.0896\n",
      "Epoch [   93/  100] | d_loss: 1.2113 | g_loss: 0.8937\n",
      "Epoch [   93/  100] | d_loss: 1.5413 | g_loss: 1.0828\n",
      "Epoch [   94/  100] | d_loss: 1.3040 | g_loss: 1.0930\n",
      "Epoch [   94/  100] | d_loss: 1.1723 | g_loss: 1.0538\n",
      "Epoch [   94/  100] | d_loss: 1.3426 | g_loss: 0.9083\n",
      "Epoch [   95/  100] | d_loss: 1.3048 | g_loss: 1.2015\n",
      "Epoch [   95/  100] | d_loss: 1.3240 | g_loss: 1.0940\n",
      "Epoch [   95/  100] | d_loss: 1.4004 | g_loss: 1.0151\n",
      "Epoch [   96/  100] | d_loss: 1.1289 | g_loss: 0.9784\n",
      "Epoch [   96/  100] | d_loss: 1.1568 | g_loss: 1.0316\n",
      "Epoch [   96/  100] | d_loss: 1.4199 | g_loss: 1.2084\n",
      "Epoch [   97/  100] | d_loss: 1.2560 | g_loss: 1.0967\n",
      "Epoch [   97/  100] | d_loss: 1.3283 | g_loss: 0.9327\n",
      "Epoch [   97/  100] | d_loss: 1.3273 | g_loss: 0.9967\n",
      "Epoch [   98/  100] | d_loss: 1.2809 | g_loss: 1.1429\n",
      "Epoch [   98/  100] | d_loss: 1.3746 | g_loss: 1.0579\n",
      "Epoch [   98/  100] | d_loss: 1.3591 | g_loss: 0.8551\n",
      "Epoch [   99/  100] | d_loss: 1.1829 | g_loss: 1.1662\n",
      "Epoch [   99/  100] | d_loss: 1.1115 | g_loss: 0.8628\n",
      "Epoch [   99/  100] | d_loss: 1.2040 | g_loss: 0.9419\n",
      "Epoch [  100/  100] | d_loss: 1.2218 | g_loss: 1.3471\n",
      "Epoch [  100/  100] | d_loss: 1.1661 | g_loss: 1.0516\n",
      "Epoch [  100/  100] | d_loss: 1.4907 | g_loss: 0.9161\n"
     ]
    }
   ],
   "source": [
    "import pickle as pkl\n",
    "\n",
    "# training hyperparams\n",
    "num_epochs = 100\n",
    "\n",
    "# keep track of loss and generated, \"fake\" samples\n",
    "samples = []\n",
    "losses = []\n",
    "\n",
    "print_every = 400\n",
    "\n",
    "# Get some fixed data for sampling. These are images that are held\n",
    "# constant throughout training, and allow us to inspect the model's performance\n",
    "sample_size=16\n",
    "fixed_z = np.random.uniform(-1, 1, size=(sample_size, z_size))\n",
    "fixed_z = torch.from_numpy(fixed_z).float()\n",
    "fixed_z = fixed_z.cuda() \n",
    "\n",
    "# train the network\n",
    "D.train()\n",
    "G.train()\n",
    "for epoch in range(num_epochs):\n",
    "    \n",
    "    for batch_i, (real_images, _) in enumerate(train_loader):\n",
    "        real_images = real_images.cuda()               \n",
    "        batch_size = real_images.size(0)\n",
    "        ## Important rescaling step ## \n",
    "        ## we want the real images scale match that of generator output.\n",
    "        ## generator output passes through tanh which means its values are between [-1, 1]\n",
    "        real_images = real_images*2 - 1  # rescale input images from [0,1) to [-1, 1)\n",
    "\n",
    "        # ============================================\n",
    "        #            TRAIN THE DISCRIMINATOR\n",
    "        # ============================================\n",
    "        d_optimizer.zero_grad()\n",
    "        # 1. Train with real images\n",
    "        \n",
    "        # Compute the discriminator losses on real images\n",
    "        # use smoothed labels\n",
    "        real_losses = real_loss(D(real_images), smooth=False)\n",
    "        \n",
    "        # 2. Train with fake images\n",
    "        \n",
    "        # Generate fake images\n",
    "        z = np.random.uniform(-1, 1, size=(batch_size, z_size))\n",
    "        z = torch.from_numpy(z).float()\n",
    "        z = z.cuda() \n",
    "        fake_images = G(z)\n",
    "        \n",
    "        # Compute the discriminator losses on fake images        \n",
    "        fake_losses = fake_loss(D(fake_images))\n",
    "        \n",
    "        # add up real and fake losses and perform backprop\n",
    "        d_loss = real_losses + fake_losses\n",
    "        \n",
    "        # Backward pass.\n",
    "        d_loss.backward()\n",
    "        \n",
    "        # Update the parameters in the optimizer.\n",
    "        d_optimizer.step()        \n",
    "        # =========================================\n",
    "        #            TRAIN THE GENERATOR\n",
    "        # =========================================\n",
    "        g_optimizer.zero_grad()\n",
    "        # 1. Train with fake images and flipped labels\n",
    "        \n",
    "        # Generate fake images\n",
    "        z2 = np.random.uniform(-1, 1, size=(batch_size, z_size))\n",
    "        z2 = torch.from_numpy(z2).float()\n",
    "        z2 = z2.cuda()\n",
    "        generator_training_fake_images = G(z2)\n",
    "        # Compute the discriminator losses on fake images \n",
    "        # using flipped labels!\n",
    "        discriminator_score_fake_images = D(generator_training_fake_images)\n",
    "        discriminator_loss_fake_labels = real_loss(discriminator_score_fake_images)\n",
    "        # perform backprop\n",
    "        g_loss = discriminator_loss_fake_labels\n",
    "        # Backward pass.\n",
    "        g_loss.backward()\n",
    "        \n",
    "        # Update the parameters in the optimizer.\n",
    "        g_optimizer.step()\n",
    "\n",
    "        # Print some loss stats\n",
    "        if batch_i % print_every == 0:\n",
    "            # print discriminator and generator loss\n",
    "            print('Epoch [{:5d}/{:5d}] | d_loss: {:6.4f} | g_loss: {:6.4f}'.format(\n",
    "                    epoch+1, num_epochs, d_loss.item(), g_loss.item()))\n",
    "\n",
    "    \n",
    "    ## AFTER EACH EPOCH##\n",
    "    # append discriminator loss and generator loss\n",
    "    losses.append((d_loss.item(), g_loss.item()))\n",
    "    \n",
    "    # generate and save sample, fake images\n",
    "    G.eval() # eval mode for generating samples\n",
    "    samples_z = G(fixed_z)\n",
    "    samples.append(samples_z)\n",
    "    G.train() # back to train mode\n",
    "\n",
    "\n",
    "# Save training generator samples\n",
    "with open('train_samples.pkl', 'wb') as f:\n",
    "    pkl.dump(samples, f)"
   ]
  },
  {
   "cell_type": "markdown",
   "metadata": {},
   "source": [
    "## Training loss\n",
    "\n",
    "Here we'll plot the training losses for the generator and discriminator, recorded after each epoch."
   ]
  },
  {
   "cell_type": "code",
   "execution_count": 16,
   "metadata": {},
   "outputs": [
    {
     "data": {
      "text/plain": [
       "<matplotlib.legend.Legend at 0x7f90a00712b0>"
      ]
     },
     "execution_count": 16,
     "metadata": {},
     "output_type": "execute_result"
    },
    {
     "data": {
      "image/png": "[encoded data removed]",
      "text/plain": [
       "<Figure size 432x288 with 1 Axes>"
      ]
     },
     "metadata": {
      "needs_background": "light"
     },
     "output_type": "display_data"
    }
   ],
   "source": [
    "fig, ax = plt.subplots()\n",
    "losses = np.array(losses)\n",
    "plt.plot(losses.T[0], label='Discriminator')\n",
    "plt.plot(losses.T[1], label='Generator')\n",
    "plt.title(\"Training Losses\")\n",
    "plt.legend()"
   ]
  },
  {
   "cell_type": "markdown",
   "metadata": {},
   "source": [
    "## Generator samples from training\n",
    "\n",
    "Here we can view samples of images from the generator. First we'll look at the images we saved during training."
   ]
  },
  {
   "cell_type": "code",
   "execution_count": 17,
   "metadata": {},
   "outputs": [],
   "source": [
    "# helper function for viewing a list of passed in sample images\n",
    "def view_samples(epoch, samples):\n",
    "    fig, axes = plt.subplots(figsize=(7,7), nrows=4, ncols=4, sharey=True, sharex=True)\n",
    "    for ax, img in zip(axes.flatten(), samples[epoch]):\n",
    "        img = img.detach()\n",
    "        ax.xaxis.set_visible(False)\n",
    "        ax.yaxis.set_visible(False)\n",
    "        im = ax.imshow(img.reshape((28,28)).cpu(), cmap='Greys_r')"
   ]
  },
  {
   "cell_type": "code",
   "execution_count": 18,
   "metadata": {},
   "outputs": [],
   "source": [
    "# Load samples from generator, taken while training\n",
    "with open('train_samples.pkl', 'rb') as f:\n",
    "    samples = pkl.load(f)"
   ]
  },
  {
   "cell_type": "markdown",
   "metadata": {},
   "source": [
    "These are samples from the final training epoch. You can see the generator is able to reproduce numbers like 1, 7, 3, 2. Since this is just a sample, it isn't representative of the full range of images this generator can make."
   ]
  },
  {
   "cell_type": "code",
   "execution_count": 19,
   "metadata": {},
   "outputs": [
    {
     "data": {
      "image/png": "[encoded data removed]",
      "text/plain": [
       "<Figure size 504x504 with 16 Axes>"
      ]
     },
     "metadata": {
      "needs_background": "light"
     },
     "output_type": "display_data"
    }
   ],
   "source": [
    "# -1 indicates final epoch's samples (the last in the list)\n",
    "view_samples(-1, samples)"
   ]
  },
  {
   "cell_type": "markdown",
   "metadata": {},
   "source": [
    "Below I'm showing the generated images as the network was training, every 10 epochs."
   ]
  },
  {
   "cell_type": "code",
   "execution_count": 20,
   "metadata": {},
   "outputs": [
    {
     "data": {
      "image/png": "[encoded data removed]",
      "text/plain": [
       "<Figure size 504x864 with 60 Axes>"
      ]
     },
     "metadata": {
      "needs_background": "light"
     },
     "output_type": "display_data"
    }
   ],
   "source": [
    "rows = 10 # split epochs into 10, so 100/10 = every 10 epochs\n",
    "cols = 6\n",
    "fig, axes = plt.subplots(figsize=(7,12), nrows=rows, ncols=cols, sharex=True, sharey=True)\n",
    "\n",
    "for sample, ax_row in zip(samples[::int(len(samples)/rows)], axes):\n",
    "    for img, ax in zip(sample[::int(len(sample)/cols)], ax_row):\n",
    "        img = img.detach().cpu()\n",
    "        ax.imshow(img.reshape((28,28)), cmap='Greys_r')\n",
    "        ax.xaxis.set_visible(False)\n",
    "        ax.yaxis.set_visible(False)"
   ]
  },
  {
   "cell_type": "markdown",
   "metadata": {},
   "source": [
    "It starts out as all noise. Then it learns to make only the center white and the rest black. You can start to see some number like structures appear out of the noise like 1s and 9s."
   ]
  },
  {
   "cell_type": "markdown",
   "metadata": {},
   "source": [
    "## Sampling from the generator\n",
    "\n",
    "We can also get completely new images from the generator by using the checkpoint we saved after training. **We just need to pass in a new latent vector $z$ and we'll get new samples**!"
   ]
  },
  {
   "cell_type": "code",
   "execution_count": 21,
   "metadata": {},
   "outputs": [
    {
     "data": {
      "image/png": "[encoded data removed]",
      "text/plain": [
       "<Figure size 504x504 with 16 Axes>"
      ]
     },
     "metadata": {
      "needs_background": "light"
     },
     "output_type": "display_data"
    }
   ],
   "source": [
    "# randomly generated, new latent vectors\n",
    "sample_size=16\n",
    "rand_z = np.random.uniform(-1, 1, size=(sample_size, z_size))\n",
    "rand_z = torch.from_numpy(rand_z).float()\n",
    "rand_z = rand_z.cuda()\n",
    "G.eval() # eval mode\n",
    "# generated samples\n",
    "rand_images = G(rand_z)\n",
    "rand_images = rand_images.cpu()\n",
    "# 0 indicates the first set of samples in the passed in list\n",
    "# and we only have one batch of samples, here\n",
    "view_samples(0, [rand_images])"
   ]
  },
  {
   "cell_type": "code",
   "execution_count": 53,
   "metadata": {},
   "outputs": [
    {
     "data": {
      "text/plain": [
       "<matplotlib.image.AxesImage at 0x7f90645744e0>"
      ]
     },
     "execution_count": 53,
     "metadata": {},
     "output_type": "execute_result"
    },
    {
     "data": {
      "image/png": "[encoded data removed]",
      "text/plain": [
       "<Figure size 216x216 with 1 Axes>"
      ]
     },
     "metadata": {
      "needs_background": "light"
     },
     "output_type": "display_data"
    }
   ],
   "source": [
    "# obtain one batch of training images\n",
    "# dataiter = iter(train_loader)\n",
    "images, labels = dataiter.next()\n",
    "images = images.numpy()\n",
    "\n",
    "# get one image from the batch\n",
    "img = np.squeeze(images[0])\n",
    "\n",
    "fig = plt.figure(figsize = (3,3)) \n",
    "ax = fig.add_subplot(111)\n",
    "ax.imshow(img, cmap='gray')"
   ]
  },
  {
   "cell_type": "code",
   "execution_count": 54,
   "metadata": {},
   "outputs": [
    {
     "name": "stdout",
     "output_type": "stream",
     "text": [
      "(10, 10)\n"
     ]
    },
    {
     "name": "stderr",
     "output_type": "stream",
     "text": [
      "/home/pemfir/anaconda3/envs/comp_vis/lib/python3.6/site-packages/scipy/ndimage/interpolation.py:611: UserWarning: From scipy 0.13.0, the output shape of zoom() is calculated with round() instead of int() - for these inputs the size of the returned array has changed.\n",
      "  \"the returned array has changed.\", UserWarning)\n"
     ]
    },
    {
     "data": {
      "text/plain": [
       "<matplotlib.image.AxesImage at 0x7f906454d470>"
      ]
     },
     "execution_count": 54,
     "metadata": {},
     "output_type": "execute_result"
    },
    {
     "data": {
      "image/png": "[encoded data removed]",
      "text/plain": [
       "<Figure size 216x216 with 1 Axes>"
      ]
     },
     "metadata": {
      "needs_background": "light"
     },
     "output_type": "display_data"
    }
   ],
   "source": [
    "from scipy.ndimage.interpolation import zoom\n",
    "\n",
    "small_a = zoom(img, 0.35)\n",
    "print(small_a.shape)\n",
    "# i_width = 10\n",
    "# i_height = 10\n",
    "\n",
    "\n",
    "fig = plt.figure(figsize = (3,3)) \n",
    "ax = fig.add_subplot(111)\n",
    "ax.imshow(small_a, cmap='gray')"
   ]
  },
  {
   "cell_type": "code",
   "execution_count": 42,
   "metadata": {},
   "outputs": [
    {
     "data": {
      "text/plain": [
       "numpy.ndarray"
      ]
     },
     "execution_count": 42,
     "metadata": {},
     "output_type": "execute_result"
    }
   ],
   "source": [
    "type(small_a)"
   ]
  },
  {
   "cell_type": "code",
   "execution_count": 27,
   "metadata": {},
   "outputs": [
    {
     "ename": "ValueError",
     "evalue": "cannot reshape array of size 784 into shape (10,10)",
     "output_type": "error",
     "traceback": [
      "\u001b[0;31m---------------------------------------------------------------------------\u001b[0m",
      "\u001b[0;31mValueError\u001b[0m                                Traceback (most recent call last)",
      "\u001b[0;32m<ipython-input-27-bbf5a6285a93>\u001b[0m in \u001b[0;36m<module>\u001b[0;34m\u001b[0m\n\u001b[0;32m----> 1\u001b[0;31m \u001b[0mimg\u001b[0m\u001b[0;34m.\u001b[0m\u001b[0mreshape\u001b[0m\u001b[0;34m(\u001b[0m\u001b[0;36m10\u001b[0m\u001b[0;34m,\u001b[0m\u001b[0;36m10\u001b[0m\u001b[0;34m)\u001b[0m\u001b[0;34m\u001b[0m\u001b[0;34m\u001b[0m\u001b[0m\n\u001b[0m",
      "\u001b[0;31mValueError\u001b[0m: cannot reshape array of size 784 into shape (10,10)"
     ]
    }
   ],
   "source": [
    "img.reshape(10,10)"
   ]
  },
  {
   "cell_type": "code",
   "execution_count": 26,
   "metadata": {},
   "outputs": [
    {
     "data": {
      "text/plain": [
       "torch.Size([1, 100])"
      ]
     },
     "execution_count": 26,
     "metadata": {},
     "output_type": "execute_result"
    }
   ],
   "source": [
    "rand_z.shape"
   ]
  },
  {
   "cell_type": "code",
   "execution_count": 55,
   "metadata": {},
   "outputs": [
    {
     "data": {
      "image/png": "[encoded data removed]",
      "text/plain": [
       "<Figure size 504x504 with 16 Axes>"
      ]
     },
     "metadata": {
      "needs_background": "light"
     },
     "output_type": "display_data"
    }
   ],
   "source": [
    "# randomly generated, new latent vectors\n",
    "\n",
    "\n",
    "sample_size= 1\n",
    "rand_z = torch.from_numpy(small_a).view(-1, 10*10)\n",
    "# rand_z = torch.from_numpy(rand_z).float()\n",
    "rand_z = rand_z.cuda()\n",
    "G.eval() # eval mode\n",
    "# generated samples\n",
    "rand_images = G(rand_z)\n",
    "rand_images = rand_images.cpu()\n",
    "# 0 indicates the first set of samples in the passed in list\n",
    "# and we only have one batch of samples, here\n",
    "view_samples(0, [rand_images])"
   ]
  },
  {
   "cell_type": "code",
   "execution_count": null,
   "metadata": {},
   "outputs": [],
   "source": []
  }
 ],
 "metadata": {
  "kernelspec": {
   "display_name": "computer_vision_class",
   "language": "python",
   "name": "comp_vis"
  },
  "language_info": {
   "codemirror_mode": {
    "name": "ipython",
    "version": 3
   },
   "file_extension": ".py",
   "mimetype": "text/x-python",
   "name": "python",
   "nbconvert_exporter": "python",
   "pygments_lexer": "ipython3",
   "version": "3.6.9"
  }
 },
 "nbformat": 4,
 "nbformat_minor": 2
}
